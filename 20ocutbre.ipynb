{
  "nbformat": 4,
  "nbformat_minor": 0,
  "metadata": {
    "colab": {
      "name": "20ocutbre.ipynb",
      "provenance": [],
      "authorship_tag": "ABX9TyPBe2ltAKAzUDIeEZkdcMSI",
      "include_colab_link": true
    },
    "kernelspec": {
      "name": "python3",
      "display_name": "Python 3"
    }
  },
  "cells": [
    {
      "cell_type": "markdown",
      "metadata": {
        "id": "view-in-github",
        "colab_type": "text"
      },
      "source": [
        "<a href=\"https://colab.research.google.com/github/carlos-2904/edd_1310_20221/blob/master/20ocutbre.ipynb\" target=\"_parent\"><img src=\"https://colab.research.google.com/assets/colab-badge.svg\" alt=\"Open In Colab\"/></a>"
      ]
    },
    {
      "cell_type": "code",
      "metadata": {
        "id": "RJFN6mStydVM",
        "outputId": "2fd5c68a-d074-479f-c10b-139aa212ceca",
        "colab": {
          "base_uri": "https://localhost:8080/",
          "height": 255
        }
      },
      "source": [
        "#archivo = open('numeros.txt','rt')\n",
        "#for linea in archivo.readlines(): \n",
        "  #for trunc in linea.split(','):\n",
        "   # print(int(trunc.strip()))\n",
        "    \n",
        "\n"
      ],
      "execution_count": 6,
      "outputs": [
        {
          "output_type": "stream",
          "text": [
            "23\n",
            "23\n",
            "44\n",
            "55\n",
            "44\n",
            "4\n",
            "5\n",
            "7\n",
            "7\n",
            "6\n",
            "5\n",
            "4\n",
            "2\n",
            "1\n"
          ],
          "name": "stdout"
        }
      ]
    },
    {
      "cell_type": "markdown",
      "metadata": {
        "id": "BKbVWhod22ek"
      },
      "source": [
        "# sintaxis del for en python\n",
        "- dos versiones\n",
        "  1. range\n",
        "  2. in iterator"
      ]
    },
    {
      "cell_type": "code",
      "metadata": {
        "id": "SmFMEuXR3CgJ",
        "outputId": "cdab762f-5cba-44c0-aaf7-5ead13575106",
        "colab": {
          "base_uri": "https://localhost:8080/",
          "height": 170
        }
      },
      "source": [
        "#print(range(0,10,2))\n",
        "r = range(0,10,2)\n",
        "for x in r:\n",
        "  print(x)\n",
        "\n",
        "\n",
        "colores = ['rojo', 'rosa', 'azul','fucsia']\n",
        "\n",
        "for indice in range(0,4,1):  # for(indice = 0; indice <4;indice++)\n",
        "  colores[indice]=colores[indice].upper() \n",
        "\n",
        "# for sobre un iterador \n",
        "\n",
        "for col in colores:\n",
        "  print(col)\n",
        "\n"
      ],
      "execution_count": 11,
      "outputs": [
        {
          "output_type": "stream",
          "text": [
            "0\n",
            "2\n",
            "4\n",
            "6\n",
            "8\n",
            "ROJO\n",
            "ROSA\n",
            "AZUL\n",
            "FUCSIA\n"
          ],
          "name": "stdout"
        }
      ]
    },
    {
      "cell_type": "markdown",
      "metadata": {
        "id": "8hdOyzGN8QlY"
      },
      "source": [
        "# generadores\n",
        "\n",
        "[ valor for x in range(10) ]\n",
        "\n",
        "\n",
        "[[0,0,0],\n",
        "[0,0,0],\n",
        "[0,0,0],\n",
        "\n",
        "3x3"
      ]
    },
    {
      "cell_type": "code",
      "metadata": {
        "id": "8lSmIdn58gQw",
        "outputId": "c02a888e-7195-4aa2-ea10-26952b79ad94",
        "colab": {
          "base_uri": "https://localhost:8080/",
          "height": 34
        }
      },
      "source": [
        "lista = [ x for x in range(10)]\n",
        "print(lista)"
      ],
      "execution_count": 14,
      "outputs": [
        {
          "output_type": "stream",
          "text": [
            "[0, 1, 2, 3, 4, 5, 6, 7, 8, 9]\n"
          ],
          "name": "stdout"
        }
      ]
    },
    {
      "cell_type": "code",
      "metadata": {
        "id": "1K6ExRzO-UQ1",
        "outputId": "1eba76c8-8bfa-4236-caf7-51cbf7f7a919",
        "colab": {
          "base_uri": "https://localhost:8080/",
          "height": 34
        }
      },
      "source": [
        "lista =[ [0,0,0] for x in range(3) ]\n",
        "print(lista)"
      ],
      "execution_count": 16,
      "outputs": [
        {
          "output_type": "stream",
          "text": [
            "[[0, 0, 0], [0, 0, 0], [0, 0, 0]]\n"
          ],
          "name": "stdout"
        }
      ]
    },
    {
      "cell_type": "code",
      "metadata": {
        "id": "NJe2Us-G-w2e",
        "outputId": "da44a33e-80c8-4b50-ee06-5c0d0a22ce91",
        "colab": {
          "base_uri": "https://localhost:8080/",
          "height": 34
        }
      },
      "source": [
        "ren = 3\n",
        "col = 3\n",
        "lista = [ [0 for x in range(col)] for x in range(ren) ]\n",
        "print(lista)"
      ],
      "execution_count": 17,
      "outputs": [
        {
          "output_type": "stream",
          "text": [
            "[[0, 0, 0], [0, 0, 0], [0, 0, 0]]\n"
          ],
          "name": "stdout"
        }
      ]
    },
    {
      "cell_type": "markdown",
      "metadata": {
        "id": "ZHc3qRp8_QOl"
      },
      "source": [
        "# POO en python\n",
        "- clase\n",
        "-creacion de objetos\n",
        "- constructor\n",
        "- encapsulamiento \n",
        "- atributos\n",
        "- métodos\n",
        "- herencia"
      ]
    },
    {
      "cell_type": "code",
      "metadata": {
        "id": "QFfDXG8N_QA4",
        "outputId": "7f693f88-5121-40ac-ccd4-6cf1f155826a",
        "colab": {
          "base_uri": "https://localhost:8080/",
          "height": 34
        }
      },
      "source": [
        "class Computadora:\n",
        "  def __init__ ( self , m , p ):\n",
        "      self.marca=\"\"\n",
        "      self.procesador=\"\"\n",
        "  \n",
        "  def to_string( self ):\n",
        "    return \"Marca:\"+self.marca+\"Procesador:\"+self.procesador\n",
        "\n",
        "mi_pc = Computadora(\"Toshiba\",\"Intel i7\")\n",
        "mi_pc.marca=\"HP \"\n",
        "\n",
        "\n",
        "print(mi_pc.to_string())\n"
      ],
      "execution_count": 27,
      "outputs": [
        {
          "output_type": "stream",
          "text": [
            "Marca:HP Procesador:\n"
          ],
          "name": "stdout"
        }
      ]
    },
    {
      "cell_type": "code",
      "metadata": {
        "id": "ryebhP9mCW3u"
      },
      "source": [
        ""
      ],
      "execution_count": null,
      "outputs": []
    }
  ]
}