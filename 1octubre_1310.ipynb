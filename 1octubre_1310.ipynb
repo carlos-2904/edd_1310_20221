{
  "nbformat": 4,
  "nbformat_minor": 0,
  "metadata": {
    "colab": {
      "name": "1octubre_1310.ipynb",
      "provenance": [],
      "authorship_tag": "ABX9TyM+A9PLBbCWrkte1LlTQum+",
      "include_colab_link": true
    },
    "kernelspec": {
      "name": "python3",
      "display_name": "Python 3"
    }
  },
  "cells": [
    {
      "cell_type": "markdown",
      "metadata": {
        "id": "view-in-github",
        "colab_type": "text"
      },
      "source": [
        "<a href=\"https://colab.research.google.com/github/carlos-2904/edd_1310_20221/blob/master/1octubre_1310.ipynb\" target=\"_parent\"><img src=\"https://colab.research.google.com/assets/colab-badge.svg\" alt=\"Open In Colab\"/></a>"
      ]
    },
    {
      "cell_type": "code",
      "metadata": {
        "id": "pyCnYn9J725R"
      },
      "source": [
        "## python \n"
      ],
      "execution_count": null,
      "outputs": []
    },
    {
      "cell_type": "code",
      "metadata": {
        "id": "q1rRKeCB8VvR",
        "outputId": "a84badc5-9221-419a-caeb-c78cccd70d66",
        "colab": {
          "base_uri": "https://localhost:8080/",
          "height": 170
        }
      },
      "source": [
        "escuela = \"Fes Aragon\"\n",
        "print(escuela)\n",
        "edad = 13\n",
        "estatura = 1.67\n",
        "fumador = True\n",
        "frase= \"\"\"\n",
        "Esta es\n",
        "una\n",
        "frase\n",
        "de multiples líneas\n",
        "y tambien es\n",
        "un tipo de dato\n",
        "\"\"\"\n",
        "print(frase)\n",
        "nombre = 'jose'\n",
        "nombre_completo = 'jose sosa cardenas'\n",
        "\n"
      ],
      "execution_count": 5,
      "outputs": [
        {
          "output_type": "stream",
          "text": [
            "Fes Aragon\n",
            "\n",
            "Esta es\n",
            "una\n",
            "frase\n",
            "de multiples líneas\n",
            "y tambien es\n",
            "un tipo de dato\n",
            "\n"
          ],
          "name": "stdout"
        }
      ]
    },
    {
      "cell_type": "markdown",
      "metadata": {
        "id": "4gHfAIz09-os"
      },
      "source": [
        "# Print\n",
        "con comas ,\n",
        "\n",
        "con signo mas +\n",
        "\n",
        "con format()\n",
        "\n",
        "con el operador f\"\" \n"
      ]
    },
    {
      "cell_type": "code",
      "metadata": {
        "id": "tOb9ApzZ-Kv_",
        "outputId": "02980b12-b631-49d0-94be-980b31529bd5",
        "colab": {
          "base_uri": "https://localhost:8080/",
          "height": 34
        }
      },
      "source": [
        "\n",
        "print(nombre,edad) \n"
      ],
      "execution_count": 7,
      "outputs": [
        {
          "output_type": "stream",
          "text": [
            "jose 13\n"
          ],
          "name": "stdout"
        }
      ]
    },
    {
      "cell_type": "code",
      "metadata": {
        "id": "FL5CA0Fi-xtu",
        "outputId": "a7e5cf57-a018-45cf-a660-07e96d42e87f",
        "colab": {
          "base_uri": "https://localhost:8080/",
          "height": 51
        }
      },
      "source": [
        "## el + concatena cadena, necesitamos el str \n",
        "print(nombre + str (edad))\n",
        "print(nombre+nombre_completo)\n"
      ],
      "execution_count": 13,
      "outputs": [
        {
          "output_type": "stream",
          "text": [
            "jose13\n",
            "josejose sosa cardenas\n"
          ],
          "name": "stdout"
        }
      ]
    },
    {
      "cell_type": "code",
      "metadata": {
        "id": "vlp7uCcZAWMj",
        "outputId": "7f5dddbf-216c-4412-d34c-9803637f17ce",
        "colab": {
          "base_uri": "https://localhost:8080/",
          "height": 68
        }
      },
      "source": [
        "# con formato -> Su nombre es Jose y su edad es 13 años.\n",
        "print(\"Su nombre es\",nombre,\"y su edad es de\",edad,\"años.\")\n",
        "print( \"Su nombre es {0} y su edad es de {1} años.\".format(nombre,edad) )\n",
        "print( \"Su nombre es {1} y su edad es de {0} años.\".format(nombre,edad) )"
      ],
      "execution_count": 18,
      "outputs": [
        {
          "output_type": "stream",
          "text": [
            "Su nombre es jose y su edad es de 13 años.\n",
            "Su nombre es jose y su edad es de 13 años.\n",
            "Su nombre es 13 y su edad es de jose años.\n"
          ],
          "name": "stdout"
        }
      ]
    },
    {
      "cell_type": "code",
      "metadata": {
        "id": "EhWghoKcBR8U",
        "outputId": "66e808a6-e7c6-45e7-c85f-c9c300cd4f38",
        "colab": {
          "base_uri": "https://localhost:8080/",
          "height": 34
        }
      },
      "source": [
        "## con formato con el operador f\"\"\n",
        "\n",
        "print(f\"Su nombre es {nombre} y su edad es de {edad} años.\")\n"
      ],
      "execution_count": 19,
      "outputs": [
        {
          "output_type": "stream",
          "text": [
            "Su nombre es jose y su edad es de 13 años.\n"
          ],
          "name": "stdout"
        }
      ]
    },
    {
      "cell_type": "markdown",
      "metadata": {
        "id": "voLUcfN0CYNZ"
      },
      "source": [
        "# Carácter de escape \n",
        "\\n salto de línea\n",
        "\n",
        "\\t tabulador\n",
        "\n",
        "\\a beep\n",
        "\n",
        "\\\\\" imprimir comilla doble\n",
        "\n",
        "\\\\' imprimir comilla simple\n"
      ]
    },
    {
      "cell_type": "code",
      "metadata": {
        "id": "tFr6k1VmCWaD",
        "outputId": "1bad6244-758b-4664-f03c-762d4a9bad80",
        "colab": {
          "base_uri": "https://localhost:8080/",
          "height": 51
        }
      },
      "source": [
        "print(f\"\\tMi nombre es\\n\\t\\t {nombre}\")"
      ],
      "execution_count": 24,
      "outputs": [
        {
          "output_type": "stream",
          "text": [
            "\tMi nombre es\n",
            "\t\t jose\n"
          ],
          "name": "stdout"
        }
      ]
    },
    {
      "cell_type": "markdown",
      "metadata": {
        "id": "8MR44hPeEJC7"
      },
      "source": [
        "# ayuda de tipos de dato en python \n",
        "dir()   metodos del tipo de dato\n",
        " \n",
        "help()"
      ]
    },
    {
      "cell_type": "code",
      "metadata": {
        "id": "bOoYwBAmETXH"
      },
      "source": [
        "# str, int, float, bool ... list, dict, set\n",
        "help(str) \n",
        "\n",
        "  "
      ],
      "execution_count": null,
      "outputs": []
    },
    {
      "cell_type": "code",
      "metadata": {
        "id": "X6f_vOkbFUvr",
        "outputId": "e67f2764-aead-48f4-e48a-613bde8c7dd8",
        "colab": {
          "base_uri": "https://localhost:8080/",
          "height": 51
        }
      },
      "source": [
        " print(nombre_completo.capitalize() )\n",
        " print(nombre_completo.upper() , end=\"----\") \n",
        " print(nombre_completo.title() )\n"
      ],
      "execution_count": 33,
      "outputs": [
        {
          "output_type": "stream",
          "text": [
            "Jose sosa cardenas\n",
            "JOSE SOSA CARDENAS----Jose Sosa Cardenas\n"
          ],
          "name": "stdout"
        }
      ]
    },
    {
      "cell_type": "code",
      "metadata": {
        "id": "3V__h7DbGKqW"
      },
      "source": [
        "help(print)"
      ],
      "execution_count": null,
      "outputs": []
    },
    {
      "cell_type": "markdown",
      "metadata": {
        "id": "GDDGmpEfG1uB"
      },
      "source": [
        "# clase String \n",
        "Es manejada como un arreglo (C o java) o lista (python)\n",
        "\n",
        "telefono = \"Huawei mate 30 pro\" \n",
        "\n"
      ]
    },
    {
      "cell_type": "code",
      "metadata": {
        "id": "bvkpEcslG1Z3",
        "outputId": "17e688f0-83a7-4953-f689-666b74f871ec",
        "colab": {
          "base_uri": "https://localhost:8080/",
          "height": 34
        }
      },
      "source": [
        "telefono = \"Huawei mate 30 pro\"\n",
        "\n",
        "print(telefono[5] )\n",
        "      "
      ],
      "execution_count": 34,
      "outputs": [
        {
          "output_type": "stream",
          "text": [
            "i\n"
          ],
          "name": "stdout"
        }
      ]
    },
    {
      "cell_type": "markdown",
      "metadata": {
        "id": "3U0oxieFIROb"
      },
      "source": [
        "# Slicing (rebanado) \n",
        "[ ini : stop : incremento]\n",
        "\n",
        "nota: el stop no se incluye, termina en el valor anterior al stop\n",
        "\n"
      ]
    },
    {
      "cell_type": "code",
      "metadata": {
        "id": "4emh-v-oIklV",
        "outputId": "06acc224-5662-4bad-ddcf-42b5749c4327",
        "colab": {
          "base_uri": "https://localhost:8080/",
          "height": 102
        }
      },
      "source": [
        "print(telefono[7:11:1]) \n",
        "\n",
        "# el inicio y el incremento son opcionales \n",
        "print(telefono[:11:1])\n",
        "# el valor por defecto de stop es len(str)\n",
        "print(telefono[::])\n",
        "# incremento negativo \n",
        "print(telefono[::-1])\n",
        "#\n",
        "print(telefono[-3::1])"
      ],
      "execution_count": 39,
      "outputs": [
        {
          "output_type": "stream",
          "text": [
            "mate\n",
            "Huawei mate\n",
            "Huawei mate 30 pro\n",
            "orp 03 etam iewauH\n",
            "pro\n"
          ],
          "name": "stdout"
        }
      ]
    },
    {
      "cell_type": "markdown",
      "metadata": {
        "id": "uhCRTy-VNT0C"
      },
      "source": [
        "# métodos de string (str)\n",
        "Existen métodos muy útiles en esta clase."
      ]
    },
    {
      "cell_type": "code",
      "metadata": {
        "id": "FNOx9UzTNfZS",
        "outputId": "4ee3710c-dbfc-4161-84ba-4e8875157cae",
        "colab": {
          "base_uri": "https://localhost:8080/",
          "height": 357
        }
      },
      "source": [
        "facultad=\"    facultad de estudios superiores aragon      \\n\"\n",
        "print(facultad)\n",
        "print( facultad.count(\"u\") ) #cuenta el numero de elementos en la cadena\n",
        "print(facultad.find(\"s\") ) #busca el indice del sub string\n",
        "print( facultad.strip() ) #quita saltos de linea y espacios\n",
        "tamaño=len(facultad)\n",
        "print(len(facultad))\n",
        "print(f\"tamaño de la cadena {tamaño} caracteres\")\n",
        "print(facultad)\n",
        "print(facultad.strip().split(\" \")) \n",
        "\n",
        "\n",
        "\n",
        "print(\"---------\")\n",
        "#copiar cadenas\n",
        "otra_cadena = facultad\n",
        "print(otra_cadena)\n",
        "otra_cadena = \"FES Aragón\"\n",
        "print(facultad)\n",
        "print(otra_cadena)\n",
        "\n",
        "#copiar listas\n",
        "colores = [\"verde\", \"rojo\"]\n",
        "otra = colores.copy()\n",
        "print(colores)\n",
        "print(otra)\n",
        "otra.append(\"rosa\")\n",
        "print(colores)\n",
        "print(otra)"
      ],
      "execution_count": 69,
      "outputs": [
        {
          "output_type": "stream",
          "text": [
            "    facultad de estudios superiores aragon      \n",
            "\n",
            "3\n",
            "17\n",
            "facultad de estudios superiores aragon\n",
            "49\n",
            "tamaño de la cadena 49 caracteres\n",
            "    facultad de estudios superiores aragon      \n",
            "\n",
            "['facultad', 'de', 'estudios', 'superiores', 'aragon']\n",
            "---------\n",
            "    facultad de estudios superiores aragon      \n",
            "\n",
            "    facultad de estudios superiores aragon      \n",
            "\n",
            "FES Aragón\n",
            "['verde', 'rojo']\n",
            "['verde', 'rojo']\n",
            "['verde', 'rojo']\n",
            "['verde', 'rojo', 'rosa']\n"
          ],
          "name": "stdout"
        }
      ]
    }
  ]
}