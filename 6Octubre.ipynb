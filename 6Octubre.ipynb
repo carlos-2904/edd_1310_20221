{
  "nbformat": 4,
  "nbformat_minor": 0,
  "metadata": {
    "colab": {
      "name": "6Octubre.ipynb",
      "provenance": [],
      "authorship_tag": "ABX9TyOBSnWRheU7a7lYnAOOjMG8",
      "include_colab_link": true
    },
    "kernelspec": {
      "name": "python3",
      "display_name": "Python 3"
    }
  },
  "cells": [
    {
      "cell_type": "markdown",
      "metadata": {
        "id": "view-in-github",
        "colab_type": "text"
      },
      "source": [
        "<a href=\"https://colab.research.google.com/github/carlos-2904/edd_1310_20221/blob/master/6Octubre.ipynb\" target=\"_parent\"><img src=\"https://colab.research.google.com/assets/colab-badge.svg\" alt=\"Open In Colab\"/></a>"
      ]
    },
    {
      "cell_type": "code",
      "metadata": {
        "id": "p7pMXKwVqQdn",
        "outputId": "2dcf229a-914a-4877-9907-b159b82dc076",
        "colab": {
          "base_uri": "https://localhost:8080/",
          "height": 170
        }
      },
      "source": [
        " # string continuación\n",
        " numeros_txt = \"1,  2, 3, 4, 5, 35, 15 , 12\"\n",
        " print (numeros_txt)\n",
        " numeros_txt =numeros_txt.lstrip().split(',')\n",
        " print (numeros_txt)\n",
        "\n",
        " for j in range(len(numeros_txt)):\n",
        "    numeros_txt[ j ] = int(numeros_txt[j].strip())\n",
        "\n",
        " print(numeros_txt)\n",
        "\n",
        " #funcion range\n",
        "\n",
        " #range(inicio, stop , incremento )\n",
        " print(range(1,10,3))\n",
        " rango = range(1,10,2)\n",
        "\n",
        " for x in rango:\n",
        "  print(x)"
      ],
      "execution_count": 27,
      "outputs": [
        {
          "output_type": "stream",
          "text": [
            "1,  2, 3, 4, 5, 35, 15 , 12\n",
            "['1', '  2', ' 3', ' 4', ' 5', ' 35', ' 15 ', ' 12']\n",
            "[1, 2, 3, 4, 5, 35, 15, 12]\n",
            "range(1, 10, 3)\n",
            "1\n",
            "3\n",
            "5\n",
            "7\n",
            "9\n"
          ],
          "name": "stdout"
        }
      ]
    },
    {
      "cell_type": "markdown",
      "metadata": {
        "id": "pIEp0_KQxOuH"
      },
      "source": [
        "# listas\n",
        "- mutables\n",
        "- declaran con []\n",
        "- selector [ int ]\n",
        "- pueden ser de caulquier tipo y mezclado\n",
        "\n",
        "# tuplas\n",
        "- no mutable\n",
        "- declaran con ()\n",
        "- selector [ int ]\n",
        "\n",
        "# diccionarios\n",
        "- son mutables \n",
        "- son conjuntos de pares llave:valor\n",
        "- equivalente a los objetos de JSON de javascript\n",
        "\n",
        "\n",
        "# conjuntos\n",
        "- representación de la teoria de conjuntos"
      ]
    },
    {
      "cell_type": "code",
      "metadata": {
        "id": "xTs0bMW1yP9z",
        "outputId": "9ff0a06c-c4c0-4886-dd45-ccb0e1f0df53",
        "colab": {
          "base_uri": "https://localhost:8080/",
          "height": 136
        }
      },
      "source": [
        "# listas\n",
        "\n",
        "frutas = [\"pera\" , \"manzana\" , \"fresa\" , \"kiwi\" , \"naranja\"]\n",
        "print(frutas)\n",
        "cosas = [\"cuaderno\", 2 , 3.1416 , True , False , [\"rojo\" , \"azul\"] ]\n",
        "print(cosas)\n",
        "frutas[2]=\"Fresa\"\n",
        "print(frutas)\n",
        "#agregar lista\n",
        "frutas.append(\"aguacate\")\n",
        "print(frutas)\n",
        "frutas.insert(2,\"sandia\")\n",
        "print(frutas)\n",
        "\n",
        "fecha = [\"06\",\"10\",\"2020\"] #06/102020\n",
        "print(fecha) \n",
        "fecha_str = \"/\".join(fecha)\n",
        "print(fecha_str)\n",
        "\n",
        "# eliminar elementos "
      ],
      "execution_count": 41,
      "outputs": [
        {
          "output_type": "stream",
          "text": [
            "['pera', 'manzana', 'fresa', 'kiwi', 'naranja']\n",
            "['cuaderno', 2, 3.1416, True, False, ['rojo', 'azul']]\n",
            "['pera', 'manzana', 'Fresa', 'kiwi', 'naranja']\n",
            "['pera', 'manzana', 'Fresa', 'kiwi', 'naranja', 'aguacate']\n",
            "['pera', 'manzana', 'sandia', 'Fresa', 'kiwi', 'naranja', 'aguacate']\n",
            "['06', '10', '2020']\n",
            "06/10/2020\n"
          ],
          "name": "stdout"
        }
      ]
    },
    {
      "cell_type": "code",
      "metadata": {
        "id": "9dXeKAWE3c43",
        "outputId": "80adc348-6d85-4c0e-cecf-6a2d817854f5",
        "colab": {
          "base_uri": "https://localhost:8080/",
          "height": 136
        }
      },
      "source": [
        "# Eliminar elementor\n",
        "cosas = [\"cuaderno\", 2 , 3.1416 , True , False , [\"rojo\" , \"azul\"] ]\n",
        "print(cosas)\n",
        "cosas.append(\"Libro\")\n",
        "cosas.append(\"Lapiz\")\n",
        "print(cosas)\n",
        "\n",
        "print(algo)\n",
        "\n",
        "algo = cosas.pop(2)\n",
        "print(cosas)\n",
        "print(algo)\n",
        "# Ordenar listas\n",
        "print(frutas)\n",
        "frutas.sort()\n",
        "print(frutas)\n"
      ],
      "execution_count": 56,
      "outputs": [
        {
          "output_type": "stream",
          "text": [
            "['cuaderno', 2, 3.1416, True, False, ['rojo', 'azul']]\n",
            "['cuaderno', 2, 3.1416, True, False, ['rojo', 'azul'], 'Libro', 'Lapiz']\n",
            "3.1416\n",
            "['cuaderno', 2, True, False, ['rojo', 'azul'], 'Libro', 'Lapiz']\n",
            "3.1416\n",
            "['Fresa', 'aguacate', 'kiwi', 'manzana', 'naranja', 'pera', 'sandia']\n",
            "['Fresa', 'aguacate', 'kiwi', 'manzana', 'naranja', 'pera', 'sandia']\n"
          ],
          "name": "stdout"
        }
      ]
    },
    {
      "cell_type": "code",
      "metadata": {
        "id": "evb0yLQl7NXp",
        "outputId": "4c8572c2-c891-471d-eb94-5c6ec0171ce6",
        "colab": {
          "base_uri": "https://localhost:8080/",
          "height": 231
        }
      },
      "source": [
        "# slicing \n",
        "\n",
        "cosas = [\"cuaderno\", 2 , 3.1416 , True , False [\"rojo\" , \"azul\"] ]\n",
        "print(cosas[3:5:1])\n",
        "print(cosas)\n",
        "print(cosas[0][3:5:1])"
      ],
      "execution_count": 57,
      "outputs": [
        {
          "output_type": "error",
          "ename": "TypeError",
          "evalue": "ignored",
          "traceback": [
            "\u001b[0;31m---------------------------------------------------------------------------\u001b[0m",
            "\u001b[0;31mTypeError\u001b[0m                                 Traceback (most recent call last)",
            "\u001b[0;32m<ipython-input-57-30a3b584d4af>\u001b[0m in \u001b[0;36m<module>\u001b[0;34m()\u001b[0m\n\u001b[1;32m      1\u001b[0m \u001b[0;31m# slicing\u001b[0m\u001b[0;34m\u001b[0m\u001b[0;34m\u001b[0m\u001b[0;34m\u001b[0m\u001b[0m\n\u001b[1;32m      2\u001b[0m \u001b[0;34m\u001b[0m\u001b[0m\n\u001b[0;32m----> 3\u001b[0;31m \u001b[0mcosas\u001b[0m \u001b[0;34m=\u001b[0m \u001b[0;34m[\u001b[0m\u001b[0;34m\"cuaderno\"\u001b[0m\u001b[0;34m,\u001b[0m \u001b[0;36m2\u001b[0m \u001b[0;34m,\u001b[0m \u001b[0;36m3.1416\u001b[0m \u001b[0;34m,\u001b[0m \u001b[0;32mTrue\u001b[0m \u001b[0;34m,\u001b[0m \u001b[0;32mFalse\u001b[0m \u001b[0;34m[\u001b[0m\u001b[0;34m\"rojo\"\u001b[0m \u001b[0;34m,\u001b[0m \u001b[0;34m\"azul\"\u001b[0m\u001b[0;34m]\u001b[0m \u001b[0;34m]\u001b[0m\u001b[0;34m\u001b[0m\u001b[0;34m\u001b[0m\u001b[0m\n\u001b[0m\u001b[1;32m      4\u001b[0m \u001b[0mprint\u001b[0m\u001b[0;34m(\u001b[0m\u001b[0mcosas\u001b[0m\u001b[0;34m[\u001b[0m\u001b[0;36m3\u001b[0m\u001b[0;34m:\u001b[0m\u001b[0;36m5\u001b[0m\u001b[0;34m:\u001b[0m\u001b[0;36m1\u001b[0m\u001b[0;34m]\u001b[0m\u001b[0;34m)\u001b[0m\u001b[0;34m\u001b[0m\u001b[0;34m\u001b[0m\u001b[0m\n\u001b[1;32m      5\u001b[0m \u001b[0mprint\u001b[0m\u001b[0;34m(\u001b[0m\u001b[0mcosas\u001b[0m\u001b[0;34m)\u001b[0m\u001b[0;34m\u001b[0m\u001b[0;34m\u001b[0m\u001b[0m\n",
            "\u001b[0;31mTypeError\u001b[0m: 'bool' object is not subscriptable"
          ]
        }
      ]
    },
    {
      "cell_type": "code",
      "metadata": {
        "id": "N8LOi3DP8cVx",
        "outputId": "8cd8064c-d903-466e-939c-c5770ccf7b6e",
        "colab": {
          "base_uri": "https://localhost:8080/",
          "height": 68
        }
      },
      "source": [
        "numeros = [0,1,2,3,4,5,6,7,8,9,10,11,12,13,14,15,]\n",
        "print(numeros[8:12:1])\n",
        "\n",
        "#sustituir rebanadas -2,-2 ---> [0,1,2,3,4,5,6,7,-2,-2,13,14,15]\n",
        "\n",
        "numeros[8:13:] =[-2,-2] \n",
        "print( -2 in numeros)\n",
        "\n",
        "#preguntar por existencia \n",
        "print( 100 in numeros)\n",
        "\n",
        "\n",
        "\n",
        "\n",
        "\n"
      ],
      "execution_count": 61,
      "outputs": [
        {
          "output_type": "stream",
          "text": [
            "[8, 9, 10, 11]\n",
            "True\n",
            "False\n"
          ],
          "name": "stdout"
        }
      ]
    },
    {
      "cell_type": "markdown",
      "metadata": {
        "id": "PkJ3yfGJ-5Ic"
      },
      "source": [
        "Listas multi dimensión\n",
        "\n",
        "- listas dentro de listas"
      ]
    },
    {
      "cell_type": "code",
      "metadata": {
        "id": "0C45q6Rw--4F",
        "outputId": "750db77e-2997-4d0e-c930-d4024e29b049",
        "colab": {
          "base_uri": "https://localhost:8080/",
          "height": 207
        }
      },
      "source": [
        "computadoras =[\"HP\", \"Mac Book Pro 12\" , \"Mate book\" , \"Lenovo legion\"]\n",
        "oss = [ \"Windows 10\" , \"Linux\" , \"Android\" , \"iOS0\" ]\n",
        "\n",
        "computo = [computadoras , oss]\n",
        "print(computo[0])\n",
        "print(computo[1])\n",
        "print(computo[0][2])\n",
        "print(computo[0][2][0:5])\n",
        "print(computo[0][3][5: :-1])\n",
        "print(computo[0][3][-8: :-1])\n",
        "print(\"Linux\" in computo[1])\n",
        "\n",
        "dbms = [ [\"Mysql\",\"Open Source\" , False] ,[\"MS SQL server\",\"de paga\", True] ]\n",
        "computo.append(dbms) \n",
        "print(computo) \n",
        "print(computo[2][0][0])\n",
        "print(computo[2][1][1])"
      ],
      "execution_count": 69,
      "outputs": [
        {
          "output_type": "stream",
          "text": [
            "['HP', 'Mac Book Pro 12', 'Mate book', 'Lenovo legion']\n",
            "['Windows 10', 'Linux', 'Android', 'iOS0']\n",
            "Mate book\n",
            "Mate \n",
            "ovoneL\n",
            "ovoneL\n",
            "True\n",
            "[['HP', 'Mac Book Pro 12', 'Mate book', 'Lenovo legion'], ['Windows 10', 'Linux', 'Android', 'iOS0'], [['Mysql', 'Open Source', False], ['MS SQL server', 'de paga', True]]]\n",
            "Mysql\n",
            "de paga\n"
          ],
          "name": "stdout"
        }
      ]
    }
  ]
}