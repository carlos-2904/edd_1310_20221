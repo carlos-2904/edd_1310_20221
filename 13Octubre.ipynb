{
  "nbformat": 4,
  "nbformat_minor": 0,
  "metadata": {
    "colab": {
      "name": "13Octubre.ipynb",
      "provenance": [],
      "authorship_tag": "ABX9TyPHWE5Xoe48msAO+IhS/O2C",
      "include_colab_link": true
    },
    "kernelspec": {
      "name": "python3",
      "display_name": "Python 3"
    }
  },
  "cells": [
    {
      "cell_type": "markdown",
      "metadata": {
        "id": "view-in-github",
        "colab_type": "text"
      },
      "source": [
        "<a href=\"https://colab.research.google.com/github/carlos-2904/edd_1310_20221/blob/master/13Octubre.ipynb\" target=\"_parent\"><img src=\"https://colab.research.google.com/assets/colab-badge.svg\" alt=\"Open In Colab\"/></a>"
      ]
    },
    {
      "cell_type": "code",
      "metadata": {
        "id": "zsstKbGst9Hs",
        "outputId": "45d7bdd3-d63e-46bd-fc2d-92041e33e9f8",
        "colab": {
          "base_uri": "https://localhost:8080/",
          "height": 129
        }
      },
      "source": [
        "alumno = { \n",
        "          \"num_cta\" : 303030303 ,\n",
        "          \"carrera\" : \"ICO\",\n",
        "          \"promedio\" : 9.8,\n",
        "          \"materias\" :[\"EDD\",\"CyP\",\"Calidad\",\"Emprendimiento\"],\n",
        "          \"direccion\" : { \n",
        "                            \"calle\":\"rancho seco\",\n",
        "                            \"numero\" : 23 ,\n",
        "                            \"delegacion\" : \"Neza\",\n",
        "                            \"estado\" : {\n",
        "                                        \"id\" : 15 ,\n",
        "                                        \"nombre\" : \"Estado de Máxico\" ,\n",
        "                                        \"nombre_corto\" : \"EdoMex\"\n",
        "                                        } ,\n",
        "                            \"CP\":57170\n",
        "\n",
        "                        } \n",
        "}\n",
        "print(alumno)\n",
        "alumno['carrera'] =\"Ingenieria en Computación\"\n",
        "print(alumno)\n",
        "alumno[ 'nombre_completo'] ={'primer':\"Juan\",\n",
        "                             'segundo': \"Pedro\",\n",
        "                             \"materno\" : \" Pérez\",\n",
        "                             \"paterno\":\"Gómez\"\n",
        "                             }\n",
        " alumno['semestre'] = 3\n",
        " print(alumno)\n",
        "\n",
        "\n",
        " print(f\"{alumno['nombre_completo']['primer']} {alumno['nombre_completo']['segundo']}\")                           \n"
      ],
      "execution_count": 15,
      "outputs": [
        {
          "output_type": "error",
          "ename": "IndentationError",
          "evalue": "ignored",
          "traceback": [
            "\u001b[0;36m  File \u001b[0;32m\"<ipython-input-15-d31bbcd673ca>\"\u001b[0;36m, line \u001b[0;32m27\u001b[0m\n\u001b[0;31m    alumno['semestre'] = 3\u001b[0m\n\u001b[0m    ^\u001b[0m\n\u001b[0;31mIndentationError\u001b[0m\u001b[0;31m:\u001b[0m unexpected indent\n"
          ]
        }
      ]
    },
    {
      "cell_type": "code",
      "metadata": {
        "id": "svolagL5yYD2",
        "outputId": "20217f53-6879-4686-f220-643a73b7aac8",
        "colab": {
          "base_uri": "https://localhost:8080/",
          "height": 666
        }
      },
      "source": [
        "# key (), values() y items()\n",
        "\n",
        "llaves = alumno.keys()\n",
        "print(llaves)\n",
        "for llave in llaves:\n",
        "  print(llave.upper())\n",
        "\n",
        "  valores = alumno.values()\n",
        "  for val in valores:\n",
        "    print(val)\n",
        "\n",
        "pares = alumno.items()\n",
        "print(pares)\n",
        "for elem in pares:\n",
        "  print(f\"el campo { elem[0] } tiene el valor {elem[1]}\")"
      ],
      "execution_count": 22,
      "outputs": [
        {
          "output_type": "stream",
          "text": [
            "dict_keys(['num_cta', 'carrera', 'promedio', 'materias', 'direccion'])\n",
            "NUM_CTA\n",
            "303030303\n",
            "Ingenieria en Computación\n",
            "9.8\n",
            "['EDD', 'CyP', 'Calidad', 'Emprendimiento']\n",
            "{'calle': 'rancho seco', 'numero': 23, 'delegacion': 'Neza', 'estado': {'id': 15, 'nombre': 'Estado de Máxico', 'nombre_corto': 'EdoMex'}, 'CP': 57170}\n",
            "CARRERA\n",
            "303030303\n",
            "Ingenieria en Computación\n",
            "9.8\n",
            "['EDD', 'CyP', 'Calidad', 'Emprendimiento']\n",
            "{'calle': 'rancho seco', 'numero': 23, 'delegacion': 'Neza', 'estado': {'id': 15, 'nombre': 'Estado de Máxico', 'nombre_corto': 'EdoMex'}, 'CP': 57170}\n",
            "PROMEDIO\n",
            "303030303\n",
            "Ingenieria en Computación\n",
            "9.8\n",
            "['EDD', 'CyP', 'Calidad', 'Emprendimiento']\n",
            "{'calle': 'rancho seco', 'numero': 23, 'delegacion': 'Neza', 'estado': {'id': 15, 'nombre': 'Estado de Máxico', 'nombre_corto': 'EdoMex'}, 'CP': 57170}\n",
            "MATERIAS\n",
            "303030303\n",
            "Ingenieria en Computación\n",
            "9.8\n",
            "['EDD', 'CyP', 'Calidad', 'Emprendimiento']\n",
            "{'calle': 'rancho seco', 'numero': 23, 'delegacion': 'Neza', 'estado': {'id': 15, 'nombre': 'Estado de Máxico', 'nombre_corto': 'EdoMex'}, 'CP': 57170}\n",
            "DIRECCION\n",
            "303030303\n",
            "Ingenieria en Computación\n",
            "9.8\n",
            "['EDD', 'CyP', 'Calidad', 'Emprendimiento']\n",
            "{'calle': 'rancho seco', 'numero': 23, 'delegacion': 'Neza', 'estado': {'id': 15, 'nombre': 'Estado de Máxico', 'nombre_corto': 'EdoMex'}, 'CP': 57170}\n",
            "dict_items([('num_cta', 303030303), ('carrera', 'Ingenieria en Computación'), ('promedio', 9.8), ('materias', ['EDD', 'CyP', 'Calidad', 'Emprendimiento']), ('direccion', {'calle': 'rancho seco', 'numero': 23, 'delegacion': 'Neza', 'estado': {'id': 15, 'nombre': 'Estado de Máxico', 'nombre_corto': 'EdoMex'}, 'CP': 57170})])\n",
            "el campo num_cta tiene el valor 303030303\n",
            "el campo carrera tiene el valor Ingenieria en Computación\n",
            "el campo promedio tiene el valor 9.8\n",
            "el campo materias tiene el valor ['EDD', 'CyP', 'Calidad', 'Emprendimiento']\n",
            "el campo direccion tiene el valor {'calle': 'rancho seco', 'numero': 23, 'delegacion': 'Neza', 'estado': {'id': 15, 'nombre': 'Estado de Máxico', 'nombre_corto': 'EdoMex'}, 'CP': 57170}\n"
          ],
          "name": "stdout"
        }
      ]
    },
    {
      "cell_type": "code",
      "metadata": {
        "id": "9DffVMrT1FjK",
        "outputId": "eec19949-a377-441d-d6de-37ccad5ea986",
        "colab": {
          "base_uri": "https://localhost:8080/",
          "height": 34
        }
      },
      "source": [
        "computadora  = {\"procesador\":\"intel i7\",\"ram\":\"Kingston 128GB\"}\n",
        "otros ={\"monitor\":\"LG 49\\\"\",\"hd\":\"toshiba 1TB\"}   \n",
        "computadora.update(otros)  \n",
        "print(computadora)        "
      ],
      "execution_count": 25,
      "outputs": [
        {
          "output_type": "stream",
          "text": [
            "{'procesador': 'intel i7', 'ram': 'Kingston 128GB', 'monitor': 'LG 49\"', 'hd': 'toshiba 1TB'}\n"
          ],
          "name": "stdout"
        }
      ]
    },
    {
      "cell_type": "markdown",
      "metadata": {
        "id": "BHFMzhoo263V"
      },
      "source": [
        "# Funciones\n",
        "- unidades de código reutilizable\n",
        "- es un mecanismo de organización de código \n",
        "- Una funcion toma 0 a n parametros de entrada\n",
        "- tiene una sola salida (return) de cualquer tipo de dato\n",
        "- solo puedes hacer dos cosas:\n",
        "    definirlas\n",
        "    llamarlas\n",
        "\n"
      ]
    },
    {
      "cell_type": "code",
      "metadata": {
        "id": "YwjVbmzo3w0Q",
        "outputId": "87525d80-1c51-4c87-ec00-f08922723fd5",
        "colab": {
          "base_uri": "https://localhost:8080/",
          "height": 170
        }
      },
      "source": [
        "def sumar( x , y ):\n",
        "  resultado = x + y\n",
        "  return resultado\n",
        "\n",
        "def saludar( nombre):\n",
        "  print(f\" Hola {nombre}, ¿Cómo estas?\")\n",
        "  return None\n",
        "\n",
        "def multiplicar ( valor , veces ):\n",
        "  if valor !=None:\n",
        "    c = valor * veces\n",
        "  \n",
        "      \n",
        "    return c\n",
        "\n",
        "def operacion( a , b , c):\n",
        "  res = a + (b / c)    \n",
        "  return res \n",
        "\n",
        "\n",
        "\n",
        "print(sumar(10,5))  \n",
        "print(sumar(2,6))\n",
        "c = sumar(3,7)\n",
        "print(c)\n",
        "saludar(\"Carlos\") \n",
        "print(saludar('Charly')) \n",
        "print(multiplicar(5,6))\n",
        "\n",
        "print(operacion(2,9,3))\n",
        "\n",
        "\n",
        "print(operacion(a=2,c=9,b=3))\n",
        "\n",
        "\n",
        "\n",
        "\n",
        "\n",
        "\n",
        "\n",
        "\n",
        "\n"
      ],
      "execution_count": 36,
      "outputs": [
        {
          "output_type": "stream",
          "text": [
            "15\n",
            "8\n",
            "10\n",
            " Hola Carlos, ¿Cómo estas?\n",
            " Hola Charly, ¿Cómo estas?\n",
            "None\n",
            "30\n",
            "5.0\n",
            "2.3333333333333335\n"
          ],
          "name": "stdout"
        }
      ]
    },
    {
      "cell_type": "code",
      "metadata": {
        "id": "LPDcwppW-o5T",
        "outputId": "53600fa6-4d83-4dd5-e24a-19cf36215675",
        "colab": {
          "base_uri": "https://localhost:8080/",
          "height": 221
        }
      },
      "source": [
        "# valores por defecto\n",
        "def comanda( primer , fuerte , postre=\"galleta de animalito\" ):\n",
        "  print(f\"de entrada pidio:{ primer }\")\n",
        "  print(f\"de plato fuerte { fuerte }\")\n",
        "  print(f\"postre : { postre }\")\n",
        "\n",
        "\n",
        "# argumentos posicionales con tuplas * \n",
        "def comanda_2( *opciones ):\n",
        "  print(opciones)\n",
        "  print(f\"de entrada pidio:{ opciones[0] }\")\n",
        "  print(f\"de plato fuerte { opciones[1] }\")\n",
        "  print(f\"postre : { opciones[2] }\")\n",
        "  print(\"\\indicaciones extra:\")\n",
        "  for ind in opciones[3::]:\n",
        "    print(f\"t\\ {ind}\")\n",
        "\n",
        "\n",
        "comanda(\"sopa aguada\",\"tortas de papa\",\"gelatina de limón\")\n",
        "comanda(\"sopa aguada\",\"tortas de papa\")\n",
        "comanda_2(\"sopa aguada\",\"tortas de papa\",\"gelatina de limón\",\n",
        "          \"las tortas bien doradas y traer dos limones \")"
      ],
      "execution_count": 46,
      "outputs": [
        {
          "output_type": "stream",
          "text": [
            "de entrada pidio:sopa aguada\n",
            "de plato fuerte tortas de papa\n",
            "postre : gelatina de limón\n",
            "de entrada pidio:sopa aguada\n",
            "de plato fuerte tortas de papa\n",
            "postre : galleta de animalito\n",
            "('sopa aguada', 'tortas de papa', 'gelatina de limón', 'las tortas bien doradas y traer dos limones ')\n",
            "de entrada pidio:sopa aguada\n",
            "de plato fuerte tortas de papa\n",
            "postre : gelatina de limón\n",
            "\\indicaciones extra:\n",
            "t\\ las tortas bien doradas y traer dos limones \n"
          ],
          "name": "stdout"
        }
      ]
    },
    {
      "cell_type": "code",
      "metadata": {
        "id": "oSUQI1DhCCiC",
        "outputId": "5184b4ae-d0a7-48c6-af23-9b3fae24dfa8",
        "colab": {
          "base_uri": "https://localhost:8080/",
          "height": 156
        }
      },
      "source": [
        "# Argumenton posicionales con diccionarios **\n",
        "def comanda_3( **opciones ):\n",
        "  print(opciones)\n",
        "  for op in opciones.items():\n",
        "    print(f\"{op[0]} -> {op[1]}\")\n",
        "comanda_3(primer=\"sopa aguada\",fuerte=\"tortas de papa\",postre=\"gelatina de limón\",\n",
        "          extra1=\"las tortas bien doradas\", extra2=\"traer dos limones \", extra3=\"agua con hielo\")"
      ],
      "execution_count": 49,
      "outputs": [
        {
          "output_type": "stream",
          "text": [
            "{'primer': 'sopa aguada', 'fuerte': 'tortas de papa', 'postre': 'gelatina de limón', 'extra1': 'las tortas bien doradas', 'extra2': 'traer dos limones ', 'extra3': 'agua con hielo'}\n",
            "primer -> sopa aguada\n",
            "fuerte -> tortas de papa\n",
            "postre -> gelatina de limón\n",
            "extra1 -> las tortas bien doradas\n",
            "extra2 -> traer dos limones \n",
            "extra3 -> agua con hielo\n"
          ],
          "name": "stdout"
        }
      ]
    }
  ]
}