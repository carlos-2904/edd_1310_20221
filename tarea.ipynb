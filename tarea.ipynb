{
  "nbformat": 4,
  "nbformat_minor": 0,
  "metadata": {
    "colab": {
      "name": "Untitled2.ipynb",
      "provenance": [],
      "authorship_tag": "ABX9TyOqfLs0ZLbfXh3ty04Letdc",
      "include_colab_link": true
    },
    "kernelspec": {
      "name": "python3",
      "display_name": "Python 3"
    }
  },
  "cells": [
    {
      "cell_type": "markdown",
      "metadata": {
        "id": "view-in-github",
        "colab_type": "text"
      },
      "source": [
        "<a href=\"https://colab.research.google.com/github/carlos-2904/edd_1310_20221/blob/master/tarea.ipynb\" target=\"_parent\"><img src=\"https://colab.research.google.com/assets/colab-badge.svg\" alt=\"Open In Colab\"/></a>"
      ]
    },
    {
      "cell_type": "code",
      "metadata": {
        "id": "NRpONA6QpPCe",
        "outputId": "16f036f8-290e-4d8a-dfa8-0f401db8d688",
        "colab": {
          "base_uri": "https://localhost:8080/",
          "height": 34
        }
      },
      "source": [
        "class persona:\n",
        "  def __init__(self, nombre, edad, altura, dormir, comer):\n",
        "    self.nombre = nombre\n",
        "    self.edad = edad\n",
        "    self.altura = altura\n",
        "    self.dormir = dormir\n",
        "    self.comer = comer\n",
        "\n",
        "  def presentar(self) :\n",
        "    presentacion = (\"Hola soy {}, mi edad es {}, mido {}, duermo {} horas al dia y hago {} comidas al día. \")\n",
        "    print(presentacion.format(self.nombre, self.edad, self.altura, self.dormir, self.comer))\n",
        "Persona = persona (\"Carlos\", 20, 178, 8, 5)   \n",
        "Persona.presentar()\n",
        "\n",
        "\n",
        "\n",
        "\n"
      ],
      "execution_count": 19,
      "outputs": [
        {
          "output_type": "stream",
          "text": [
            "Hola soy Carlos, mi edad es 20, mido 178, duermo 8 horas al dia y hago 5 comidas al día. \n"
          ],
          "name": "stdout"
        }
      ]
    },
    {
      "cell_type": "code",
      "metadata": {
        "id": "PT914OeEEeIo",
        "outputId": "2493d6ad-a6e9-4796-c2a1-3581b259cf39",
        "colab": {
          "base_uri": "https://localhost:8080/",
          "height": 363
        }
      },
      "source": [
        "class Celular:\n",
        "  def __init__(self, marca, modelo, gigabytes, llamar, poneralarma):\n",
        "    self.marca = marca\n",
        "    self.modelo = modelo\n",
        "    self.gigabytes = gigabytes\n",
        "    self.llamar = llamar\n",
        "    self.poneralarma = poneralarma\n",
        "\n",
        "  def especificaciones(self) :\n",
        "    caracteristicas = (\"Celular {} negro, modelo {}, con {} GB \")\n",
        "    print(especificaciones.format(self.marca, self.modelo, self.gigabytes))\n",
        "  \n",
        "  Celular1 = Celular (\"Samsung\", \"s10\", 128 )\n",
        "  Celular1.especificaciones()\n",
        "\n"
      ],
      "execution_count": 23,
      "outputs": [
        {
          "output_type": "error",
          "ename": "NameError",
          "evalue": "ignored",
          "traceback": [
            "\u001b[0;31m---------------------------------------------------------------------------\u001b[0m",
            "\u001b[0;31mNameError\u001b[0m                                 Traceback (most recent call last)",
            "\u001b[0;32m<ipython-input-23-7e7ac72836af>\u001b[0m in \u001b[0;36m<module>\u001b[0;34m()\u001b[0m\n\u001b[0;32m----> 1\u001b[0;31m \u001b[0;32mclass\u001b[0m \u001b[0mCelular\u001b[0m\u001b[0;34m:\u001b[0m\u001b[0;34m\u001b[0m\u001b[0;34m\u001b[0m\u001b[0m\n\u001b[0m\u001b[1;32m      2\u001b[0m   \u001b[0;32mdef\u001b[0m \u001b[0m__init__\u001b[0m\u001b[0;34m(\u001b[0m\u001b[0mself\u001b[0m\u001b[0;34m,\u001b[0m \u001b[0mmarca\u001b[0m\u001b[0;34m,\u001b[0m \u001b[0mmodelo\u001b[0m\u001b[0;34m,\u001b[0m \u001b[0mgigabytes\u001b[0m\u001b[0;34m,\u001b[0m \u001b[0mllamar\u001b[0m\u001b[0;34m,\u001b[0m \u001b[0mponeralarma\u001b[0m\u001b[0;34m)\u001b[0m\u001b[0;34m:\u001b[0m\u001b[0;34m\u001b[0m\u001b[0;34m\u001b[0m\u001b[0m\n\u001b[1;32m      3\u001b[0m     \u001b[0mself\u001b[0m\u001b[0;34m.\u001b[0m\u001b[0mmarca\u001b[0m \u001b[0;34m=\u001b[0m \u001b[0mmarca\u001b[0m\u001b[0;34m\u001b[0m\u001b[0;34m\u001b[0m\u001b[0m\n\u001b[1;32m      4\u001b[0m     \u001b[0mself\u001b[0m\u001b[0;34m.\u001b[0m\u001b[0mmodelo\u001b[0m \u001b[0;34m=\u001b[0m \u001b[0mmodelo\u001b[0m\u001b[0;34m\u001b[0m\u001b[0;34m\u001b[0m\u001b[0m\n\u001b[1;32m      5\u001b[0m     \u001b[0mself\u001b[0m\u001b[0;34m.\u001b[0m\u001b[0mgigabytes\u001b[0m \u001b[0;34m=\u001b[0m \u001b[0mgigabytes\u001b[0m\u001b[0;34m\u001b[0m\u001b[0;34m\u001b[0m\u001b[0m\n",
            "\u001b[0;32m<ipython-input-23-7e7ac72836af>\u001b[0m in \u001b[0;36mCelular\u001b[0;34m()\u001b[0m\n\u001b[1;32m     11\u001b[0m     \u001b[0mprint\u001b[0m\u001b[0;34m(\u001b[0m\u001b[0mespecificaciones\u001b[0m\u001b[0;34m.\u001b[0m\u001b[0mformat\u001b[0m\u001b[0;34m(\u001b[0m\u001b[0mself\u001b[0m\u001b[0;34m.\u001b[0m\u001b[0mmarca\u001b[0m\u001b[0;34m,\u001b[0m \u001b[0mself\u001b[0m\u001b[0;34m.\u001b[0m\u001b[0mmodelo\u001b[0m\u001b[0;34m,\u001b[0m \u001b[0mself\u001b[0m\u001b[0;34m.\u001b[0m\u001b[0mgigabytes\u001b[0m\u001b[0;34m)\u001b[0m\u001b[0;34m)\u001b[0m\u001b[0;34m\u001b[0m\u001b[0;34m\u001b[0m\u001b[0m\n\u001b[1;32m     12\u001b[0m \u001b[0;34m\u001b[0m\u001b[0m\n\u001b[0;32m---> 13\u001b[0;31m   \u001b[0mCelular1\u001b[0m \u001b[0;34m=\u001b[0m \u001b[0mCelular\u001b[0m \u001b[0;34m(\u001b[0m\u001b[0;34m\"Samsung\"\u001b[0m\u001b[0;34m,\u001b[0m \u001b[0;34m\"s10\"\u001b[0m\u001b[0;34m,\u001b[0m \u001b[0;36m128\u001b[0m \u001b[0;34m)\u001b[0m\u001b[0;34m\u001b[0m\u001b[0;34m\u001b[0m\u001b[0m\n\u001b[0m\u001b[1;32m     14\u001b[0m   \u001b[0mCelular1\u001b[0m\u001b[0;34m.\u001b[0m\u001b[0mespecificaciones\u001b[0m\u001b[0;34m(\u001b[0m\u001b[0;34m)\u001b[0m\u001b[0;34m\u001b[0m\u001b[0;34m\u001b[0m\u001b[0m\n\u001b[1;32m     15\u001b[0m \u001b[0;34m\u001b[0m\u001b[0m\n",
            "\u001b[0;31mNameError\u001b[0m: name 'Celular' is not defined"
          ]
        }
      ]
    }
  ]
}