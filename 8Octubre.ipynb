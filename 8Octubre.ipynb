{
  "nbformat": 4,
  "nbformat_minor": 0,
  "metadata": {
    "colab": {
      "name": "8Octubre.ipynb",
      "provenance": [],
      "authorship_tag": "ABX9TyP3c0turqIs6Nk9RR5YS2Z6",
      "include_colab_link": true
    },
    "kernelspec": {
      "name": "python3",
      "display_name": "Python 3"
    }
  },
  "cells": [
    {
      "cell_type": "markdown",
      "metadata": {
        "id": "view-in-github",
        "colab_type": "text"
      },
      "source": [
        "<a href=\"https://colab.research.google.com/github/carlos-2904/edd_1310_20221/blob/master/8Octubre.ipynb\" target=\"_parent\"><img src=\"https://colab.research.google.com/assets/colab-badge.svg\" alt=\"Open In Colab\"/></a>"
      ]
    },
    {
      "cell_type": "code",
      "metadata": {
        "id": "vo7tlMqF7FVi",
        "outputId": "faa3131c-72fd-4411-b0c6-8aa0cef0fb14",
        "colab": {
          "base_uri": "https://localhost:8080/",
          "height": 139
        }
      },
      "source": [
        "# Listas multi demensión\n",
        "\n",
        "monitores =[[\"Samsung\",\"17.3 \\\"\",1024],[\"BenQ\",\"40\\\"\",2048]]\n",
        "procesadores = [[\"Intel\",\"i7\",3.4],[\"AMD\",\"razzer\",3.3],[\"Intel\",\"i3\",3.1]]\n",
        "memorias = [[\"Kingston\", \"8GB\",\"DDR4\"],[\"Kingston\", \"16GB\",\"DDR3\"],[\"ADATA\", \"32GB\",\"DDR4\"]]\n",
        "\n",
        "componentes = [monitores,procesadores,memorias]\n",
        "\n",
        "print(componentes)\n",
        "print(componentes[1])\n",
        "print(componentes[2][1][1])\n",
        "print(componentes[0][1][2]*2)\n",
        "print(procesadores[1][1][1:4:])\n",
        "#ADATA \n",
        "\n",
        "print(memorias[2][0].lower())\n",
        "   "
      ],
      "execution_count": 25,
      "outputs": [
        {
          "output_type": "stream",
          "text": [
            "[[['Samsung', '17.3 \"', 1024], ['BenQ', '40\"', 2048]], [['Intel', 'i7', 3.4], ['AMD', 'razzer', 3.3], ['Intel', 'i3', 3.1]], [['Kingston', '8GB', 'DDR4'], ['Kingston', '16GB', 'DDR3'], ['ADATA', '32GB', 'DDR4']]]\n",
            "[['Intel', 'i7', 3.4], ['AMD', 'razzer', 3.3], ['Intel', 'i3', 3.1]]\n",
            "16GB\n",
            "4096\n",
            "azz\n",
            "adata\n"
          ],
          "name": "stdout"
        }
      ]
    },
    {
      "cell_type": "code",
      "metadata": {
        "id": "PNUIOWCaH9QY",
        "outputId": "1307564c-4d0c-45af-e051-f020defbfd41",
        "colab": {
          "base_uri": "https://localhost:8080/",
          "height": 68
        }
      },
      "source": [
        "#Copiar listas y extender listas\n",
        "\n",
        "frutas =[\"Manzana\",\"Pera\"]\n",
        "otras_frutas = [\"aguacate\",\"sandia\"]\n",
        "\n",
        "frutas.append(otras_frutas)\n",
        "print(frutas)\n",
        "\n",
        "# + sobre listas\n",
        "frutas = frutas + otras_frutas\n",
        "print(frutas)\n",
        "\n",
        "# funcion extend()\n",
        "frutas.append(otras_frutas)\n",
        "print(frutas)"
      ],
      "execution_count": 28,
      "outputs": [
        {
          "output_type": "stream",
          "text": [
            "['Manzana', 'Pera', ['aguacate', 'sandia']]\n",
            "['Manzana', 'Pera', ['aguacate', 'sandia'], 'aguacate', 'sandia']\n",
            "['Manzana', 'Pera', ['aguacate', 'sandia'], 'aguacate', 'sandia', ['aguacate', 'sandia']]\n"
          ],
          "name": "stdout"
        }
      ]
    },
    {
      "cell_type": "code",
      "metadata": {
        "id": "5C0pd1B0LP9K",
        "outputId": "07919d68-cfdf-443a-9721-c8b0e93c12f0",
        "colab": {
          "base_uri": "https://localhost:8080/",
          "height": 153
        }
      },
      "source": [
        "#copiar\n",
        "\n",
        "colores = [\"azul\",\"rojo\",\"verde\",\"violeta\"]\n",
        "otros_colores = colores\n",
        "print(colores)\n",
        "print(otros_colores)\n",
        "otros_colores.append(\"Rosa\")\n",
        "print(colores)\n",
        "print(otros_colores)\n",
        "\n",
        "una_mas = colores.copy\n",
        "print(una_mas)\n",
        "\n",
        "print(una_mas)\n",
        "print(colores)\n",
        "\n",
        "# unpaking de listas\n",
        "\n",
        "alumno = [\"jesus\",\"Perez\",22,\"ICO\",10.0]\n",
        "#nombre = alumno[0]\n",
        "#paterno = alumno [1]\n",
        "\n",
        "nombre,paterno,carrera,edad,promedio = alumno\n",
        "print(f\"Alumno:{nombre} carrera: {carrera} promedio={promedio}\")"
      ],
      "execution_count": 37,
      "outputs": [
        {
          "output_type": "stream",
          "text": [
            "['azul', 'rojo', 'verde', 'violeta']\n",
            "['azul', 'rojo', 'verde', 'violeta']\n",
            "['azul', 'rojo', 'verde', 'violeta', 'Rosa']\n",
            "['azul', 'rojo', 'verde', 'violeta', 'Rosa']\n",
            "<built-in method copy of list object at 0x7fa565fd5508>\n",
            "<built-in method copy of list object at 0x7fa565fd5508>\n",
            "['azul', 'rojo', 'verde', 'violeta', 'Rosa']\n",
            "Alumno:jesus carrera: 22 promedio=10.0\n"
          ],
          "name": "stdout"
        }
      ]
    },
    {
      "cell_type": "markdown",
      "metadata": {
        "id": "hmvTDvBSSMMI"
      },
      "source": [
        "# tuplas\n",
        "- se declaran con ()\n",
        "- selector con []\n",
        "- NO son mutables"
      ]
    },
    {
      "cell_type": "code",
      "metadata": {
        "id": "JHN6rrLzPQHe",
        "outputId": "5b1437b0-f7b0-4311-fe8f-75c81641d976",
        "colab": {
          "base_uri": "https://localhost:8080/",
          "height": 68
        }
      },
      "source": [
        "\n",
        "precios = (99.9, 49.9, 12.45)\n",
        "print(precios[1])\n",
        "print(precios)\n",
        "print(precios[2:4])\n",
        "\n",
        "\n"
      ],
      "execution_count": 45,
      "outputs": [
        {
          "output_type": "stream",
          "text": [
            "49.9\n",
            "(99.9, 49.9, 12.45)\n",
            "(12.45,)\n"
          ],
          "name": "stdout"
        }
      ]
    },
    {
      "cell_type": "markdown",
      "metadata": {
        "id": "BCRRfdjZTr-g"
      },
      "source": [
        "# Diccionarios \n",
        "- se declaran con {}\n",
        "- sis son mutables\n",
        "- conjunto de pares llave: valor\n",
        "- equivalente a los Objetos JSON de JavaScript\n"
      ]
    },
    {
      "cell_type": "code",
      "metadata": {
        "id": "UWDFcpypT7QT",
        "outputId": "a937d2ec-5a19-464b-f00f-d6cbbea48972",
        "colab": {
          "base_uri": "https://localhost:8080/",
          "height": 122
        }
      },
      "source": [
        "cliente = { }\n",
        "print(cliente)\n",
        "alumno = {  \"num_cta\" :303030003 }\n",
        "print(alumno)\n",
        "\n",
        "alumno = { \n",
        "       \n",
        "          \"num_cta\" : 303030303 ,\n",
        "          \"carrera\" : \"ICO\",\n",
        "          \"promedio\" : 9.8,\n",
        "          \"materias\" :[\"EDD\",\"CyP\",\"Calidad\",\"Emprendimiento\"],\n",
        "          \"direccion\" : { \n",
        "                            \"calle\":\"rancho seco\",\n",
        "                            \"numero\" : 23 ,\n",
        "                            \"delegacion\" : \"Neza\",\n",
        "                            \"estado\" : {\n",
        "                                        \"id\" : 15 ,\n",
        "                                        \"nombre\" : \"Estado de Máxico\" ,\n",
        "                                        \"nombre_corto\" : \"EdoMex\"\n",
        "                                        } ,\n",
        "                            \"CP\":57170\n",
        "\n",
        "                        } \n",
        "          }\n",
        "\n",
        "\n",
        "print(alumno)\n",
        "print(alumno['materias'])\n",
        "print(alumno['promedio'])\n",
        "\n"
      ],
      "execution_count": 52,
      "outputs": [
        {
          "output_type": "stream",
          "text": [
            "{}\n",
            "{'num_cta': 303030003}\n",
            "{'num_cta': 303030303, 'carrera': 'ICO', 'promedio': 9.8, 'materias': ['EDD', 'CyP', 'Calidad', 'Emprendimiento'], 'direccion': {'calle': 'rancho seco', 'numero': 23, 'delegacion': 'Neza', 'estado': {'id': 15, 'nombre': 'Estado de Máxico', 'nombre_corto': 'EdoMex'}, 'CP': 57170}}\n",
            "['EDD', 'CyP', 'Calidad', 'Emprendimiento']\n",
            "9.8\n"
          ],
          "name": "stdout"
        }
      ]
    }
  ]
}