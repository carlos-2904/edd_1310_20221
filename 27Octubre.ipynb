{
  "nbformat": 4,
  "nbformat_minor": 0,
  "metadata": {
    "colab": {
      "name": "27Octubre.ipynb",
      "provenance": [],
      "authorship_tag": "ABX9TyP2lCrnP5xvh3zGOERnkfQs",
      "include_colab_link": true
    },
    "kernelspec": {
      "name": "python3",
      "display_name": "Python 3"
    }
  },
  "cells": [
    {
      "cell_type": "markdown",
      "metadata": {
        "id": "view-in-github",
        "colab_type": "text"
      },
      "source": [
        "<a href=\"https://colab.research.google.com/github/carlos-2904/edd_1310_20221/blob/master/27Octubre.ipynb\" target=\"_parent\"><img src=\"https://colab.research.google.com/assets/colab-badge.svg\" alt=\"Open In Colab\"/></a>"
      ]
    },
    {
      "cell_type": "code",
      "metadata": {
        "id": "3wQOsFY_Nmmb",
        "outputId": "615e1abe-8f2e-47e5-a7b6-ecb31b0a11bc",
        "colab": {
          "base_uri": "https://localhost:8080/",
          "height": 70
        }
      },
      "source": [
        "class Computadora:\n",
        "    def __init__( self , m , p):\n",
        "        self.__marca = m\n",
        "        self.__procesador = p\n",
        "\n",
        "    def to_string( self ):\n",
        "        return \"MArca:\"+self.__marca+\" Procesador:\"+self.__procesador\n",
        "    def set_marca( self , m ):\n",
        "      self.__marca = m\n",
        "    \n",
        "    def get_marca( self ):\n",
        "      return self.__marca \n",
        "    \n",
        "    def set_procesador( self , p ):\n",
        "      self.__procesador = p\n",
        "\n",
        "    def get_procesador( self ):\n",
        "      return self.__procesador \n",
        "\n",
        "mi_pc = Computadora(\"Toshiba\",\"Intel i7\")\n",
        "print(mi_pc.to_string())\n",
        "mi_pc.__marca=\"HP \"   #Intendando cambiar el valor privado \n",
        "mi_pc.set_marca(\"HP co.\")\n",
        "\n",
        "print(mi_pc.to_string())\n",
        "\n",
        "\n",
        "#print(mi_pc.procesador)\n",
        "print(mi_pc.get_procesador())"
      ],
      "execution_count": 3,
      "outputs": [
        {
          "output_type": "stream",
          "text": [
            "MArca:Toshiba Procesador:Intel i7\n",
            "MArca:HP co. Procesador:Intel i7\n",
            "Intel i7\n"
          ],
          "name": "stdout"
        }
      ]
    },
    {
      "cell_type": "markdown",
      "metadata": {
        "id": "ycqmivtaNuKV"
      },
      "source": [
        ""
      ]
    },
    {
      "cell_type": "code",
      "metadata": {
        "id": "OXZAMJWaOtr6",
        "outputId": "d395811e-784b-4bf2-e0c3-f5642c42b820",
        "colab": {
          "base_uri": "https://localhost:8080/",
          "height": 70
        }
      },
      "source": [
        "class computadora:\n",
        "  def __init__( self , m , p):\n",
        "    self.__marca = m #Se manda a llamar el decorador #property\n",
        "    self.__procesador = p #Se manda a llamar el decorador #property\n",
        "\n",
        "  @property   #Se declara como atributo privado y funciona como metodo get\n",
        "  def marca(self):\n",
        "    return self.__marca\n",
        "\n",
        "  @marca.setter\n",
        "  def marca(self , m):\n",
        "    print(\"En el setter de marca\")\n",
        "    self.__marca = m\n",
        "\n",
        "  @property\n",
        "  def procesador(self):\n",
        "    return self.__procesador\n",
        "\n",
        "  @procesador.setter\n",
        "  def procesador(self , p):\n",
        "    print(\"En el método set de procesador\")\n",
        "    self.__procesador = p\n",
        "\n",
        "  def to_string( self ):\n",
        "    return \"marca: \" + self.marca + \" procesador: \" + self.procesador\n",
        "\n",
        "mi_pc2 = computadora(\"macBook pro\" , \"Intel i7\")\n",
        "print(mi_pc2.to_string())\n",
        "mi_pc2.marca= \"Dell\"\n",
        "print(mi_pc2.to_string())"
      ],
      "execution_count": 9,
      "outputs": [
        {
          "output_type": "stream",
          "text": [
            "marca: macBook pro procesador: Intel i7\n",
            "En el setter de marca\n",
            "marca: Dell procesador: Intel i7\n"
          ],
          "name": "stdout"
        }
      ]
    },
    {
      "cell_type": "code",
      "metadata": {
        "id": "6M59mGEdQqWK",
        "outputId": "c56e5179-cb4a-4069-cd84-9943a2da0331",
        "colab": {
          "base_uri": "https://localhost:8080/",
          "height": 345
        }
      },
      "source": [
        "# Herencia , pasando la clase base a la declaracion\n",
        "class ServidorEmpresarial( Computadora ):\n",
        "  def __init__( self ):\n",
        "    print(\"Hola servidor\")\n",
        "\n",
        "server = ServidorEmpresarial()\n",
        "server.marca = \"Sun Micro Systems\"\n",
        "server.procesador = \"inte i7\"\n",
        "print(server.to_string())"
      ],
      "execution_count": 16,
      "outputs": [
        {
          "output_type": "stream",
          "text": [
            "Hola servidor\n"
          ],
          "name": "stdout"
        },
        {
          "output_type": "error",
          "ename": "AttributeError",
          "evalue": "ignored",
          "traceback": [
            "\u001b[0;31m---------------------------------------------------------------------------\u001b[0m",
            "\u001b[0;31mAttributeError\u001b[0m                            Traceback (most recent call last)",
            "\u001b[0;32m<ipython-input-16-b3e97db4056b>\u001b[0m in \u001b[0;36m<module>\u001b[0;34m()\u001b[0m\n\u001b[1;32m      7\u001b[0m \u001b[0mserver\u001b[0m\u001b[0;34m.\u001b[0m\u001b[0mmarca\u001b[0m \u001b[0;34m=\u001b[0m \u001b[0;34m\"Sun Micro Systems\"\u001b[0m\u001b[0;34m\u001b[0m\u001b[0;34m\u001b[0m\u001b[0m\n\u001b[1;32m      8\u001b[0m \u001b[0mserver\u001b[0m\u001b[0;34m.\u001b[0m\u001b[0mprocesador\u001b[0m \u001b[0;34m=\u001b[0m \u001b[0;34m\"inte i7\"\u001b[0m\u001b[0;34m\u001b[0m\u001b[0;34m\u001b[0m\u001b[0m\n\u001b[0;32m----> 9\u001b[0;31m \u001b[0mprint\u001b[0m\u001b[0;34m(\u001b[0m\u001b[0mserver\u001b[0m\u001b[0;34m.\u001b[0m\u001b[0mto_string\u001b[0m\u001b[0;34m(\u001b[0m\u001b[0;34m)\u001b[0m\u001b[0;34m)\u001b[0m\u001b[0;34m\u001b[0m\u001b[0;34m\u001b[0m\u001b[0m\n\u001b[0m",
            "\u001b[0;32m<ipython-input-3-43ef93beab36>\u001b[0m in \u001b[0;36mto_string\u001b[0;34m(self)\u001b[0m\n\u001b[1;32m      5\u001b[0m \u001b[0;34m\u001b[0m\u001b[0m\n\u001b[1;32m      6\u001b[0m     \u001b[0;32mdef\u001b[0m \u001b[0mto_string\u001b[0m\u001b[0;34m(\u001b[0m \u001b[0mself\u001b[0m \u001b[0;34m)\u001b[0m\u001b[0;34m:\u001b[0m\u001b[0;34m\u001b[0m\u001b[0;34m\u001b[0m\u001b[0m\n\u001b[0;32m----> 7\u001b[0;31m         \u001b[0;32mreturn\u001b[0m \u001b[0;34m\"MArca:\"\u001b[0m\u001b[0;34m+\u001b[0m\u001b[0mself\u001b[0m\u001b[0;34m.\u001b[0m\u001b[0m__marca\u001b[0m\u001b[0;34m+\u001b[0m\u001b[0;34m\" Procesador:\"\u001b[0m\u001b[0;34m+\u001b[0m\u001b[0mself\u001b[0m\u001b[0;34m.\u001b[0m\u001b[0m__procesador\u001b[0m\u001b[0;34m\u001b[0m\u001b[0;34m\u001b[0m\u001b[0m\n\u001b[0m\u001b[1;32m      8\u001b[0m     \u001b[0;32mdef\u001b[0m \u001b[0mset_marca\u001b[0m\u001b[0;34m(\u001b[0m \u001b[0mself\u001b[0m \u001b[0;34m,\u001b[0m \u001b[0mm\u001b[0m \u001b[0;34m)\u001b[0m\u001b[0;34m:\u001b[0m\u001b[0;34m\u001b[0m\u001b[0;34m\u001b[0m\u001b[0m\n\u001b[1;32m      9\u001b[0m       \u001b[0mself\u001b[0m\u001b[0;34m.\u001b[0m\u001b[0m__marca\u001b[0m \u001b[0;34m=\u001b[0m \u001b[0mm\u001b[0m\u001b[0;34m\u001b[0m\u001b[0;34m\u001b[0m\u001b[0m\n",
            "\u001b[0;31mAttributeError\u001b[0m: 'ServidorEmpresarial' object has no attribute '_Computadora__marca'"
          ]
        }
      ]
    }
  ]
}